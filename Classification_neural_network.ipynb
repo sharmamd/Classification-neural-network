{
 "cells": [
  {
   "cell_type": "code",
   "execution_count": 1,
   "id": "fc088077-97ba-413d-be08-72d12972a499",
   "metadata": {},
   "outputs": [],
   "source": [
    "import tensorflow as tf\n",
    "from tensorflow import keras\n",
    "from tensorflow.keras import layers\n",
    "import matplotlib.pyplot as plt\n",
    "%matplotlib inline\n",
    "import numpy as np\n",
    "import obspy\n",
    "import matplotlib.image as image\n",
    "import os"
   ]
  },
  {
   "cell_type": "code",
   "execution_count": 3,
   "id": "454e3de3-8c4c-4655-9323-7f812d771aa9",
   "metadata": {},
   "outputs": [],
   "source": [
    "###############TRANING##########"
   ]
  },
  {
   "cell_type": "code",
   "execution_count": 3,
   "id": "d6945314-1f30-42a7-aa61-54969982db6f",
   "metadata": {},
   "outputs": [],
   "source": [
    "\n",
    "good_traces=['cal1',\n",
    " 'chl1',\n",
    " 'chl2',\n",
    " 'chl3',\n",
    " 'cps',\n",
    " 'crt',\n",
    " 'csbg',\n",
    " 'bon1',\n",
    " 'fij',\n",
    " 'kam',\n",
    " 'mnd',\n",
    " 'nic',]"
   ]
  },
  {
   "cell_type": "code",
   "execution_count": 4,
   "id": "7f38f937-5bc9-409b-8a44-049625d8d553",
   "metadata": {},
   "outputs": [],
   "source": [
    "noisy_traces=['okt1','cal1' ,'cal2','okt4','okt5','cal4',\n",
    " 'chl1',\n",
    " 'chl2',\n",
    " 'chl3',\n",
    " 'cps',\n",
    " 'crt',\n",
    " 'csbg',\n",
    " 'fij',\n",
    " 'kam',\n",
    " 'mnd',\n",
    " 'nic',\n",
    " 'okt2',\n",
    " 'okt3','bon1','jap']\n",
    " \n",
    " "
   ]
  },
  {
   "cell_type": "code",
   "execution_count": 5,
   "id": "77ab60b4-95c3-4c61-b516-0e13a04cc994",
   "metadata": {},
   "outputs": [
    {
     "name": "stdout",
     "output_type": "stream",
     "text": [
      "15622\n"
     ]
    }
   ],
   "source": [
    "xtrain_bad=[]\n",
    "for i in eq_list_bad:\n",
    "    st_bad=obspy.read(\"/home/Madhu/Documents/dataset_classification/data/bad_traces/noisy_traces_\"+str(i)+\"/*\")\n",
    "    for tr in st_bad:\n",
    "        xtrain_bad.append(tr.data[:6000]/np.std(tr.data));\n",
    "print(len(xtrain_bad))\n",
    "ytrain_bad=np.array(np.zeros(len(xtrain_bad)))"
   ]
  },
  {
   "cell_type": "code",
   "execution_count": 6,
   "id": "f647be99-65ae-487d-9eab-a0be15588cd9",
   "metadata": {},
   "outputs": [],
   "source": [
    "xtrain_bad=np.array(xtrain_bad)"
   ]
  },
  {
   "cell_type": "code",
   "execution_count": 7,
   "id": "6d048ae1-da50-4de2-890a-6cbcc9aec285",
   "metadata": {},
   "outputs": [
    {
     "name": "stdout",
     "output_type": "stream",
     "text": [
      "53289\n"
     ]
    }
   ],
   "source": [
    "xtrain_good=[]\n",
    "for i in eq_list_good:\n",
    "    st_good=obspy.read(\"/home/Madhu/Documents/dataset_classification/data/good_traces/good_traces_\"+str(i)+\"/*\")\n",
    "    for tr in st_good:\n",
    "        xtrain_good.append(tr.data[:6000]/np.std(tr.data));\n",
    "print(len(xtrain_good))\n",
    "(xtrain_good)= np.array(xtrain_good);\n",
    "ytrain_good=np.array(np.ones(len(xtrain_good)))"
   ]
  },
  {
   "cell_type": "code",
   "execution_count": 8,
   "id": "91c92729-7680-4c9b-af3b-d2d4cfcd9c10",
   "metadata": {},
   "outputs": [],
   "source": [
    "xtrain= np.concatenate((xtrain_good,xtrain_bad), 0)\n",
    "ytrain= np.concatenate((ytrain_good, ytrain_bad), 0)"
   ]
  },
  {
   "cell_type": "code",
   "execution_count": 9,
   "id": "fca985d0-0fef-4089-9126-3152a04a9449",
   "metadata": {},
   "outputs": [],
   "source": [
    "###########MODEL START################"
   ]
  },
  {
   "cell_type": "code",
   "execution_count": 10,
   "id": "470fcba6-f3db-491b-bc0d-d8eecf4faea2",
   "metadata": {},
   "outputs": [],
   "source": [
    "input_s=6000"
   ]
  },
  {
   "cell_type": "code",
   "execution_count": 11,
   "id": "7356cc42-8c6a-49bd-893e-cd3a600fbc3a",
   "metadata": {},
   "outputs": [],
   "source": [
    "model=keras.Sequential([\n",
    "    keras.layers.Dense(input_s//2,input_shape=(input_s,),activation='elu'),\n",
    "    keras.layers.Dense(input_s//4,input_shape=(input_s//2,),activation='elu'),\n",
    "    keras.layers.Dense(input_s//8,input_shape=(input_s//4,),activation='elu'),\n",
    "    keras.layers.Dense(input_s//16,input_shape=(input_s//8,),activation='elu'),\n",
    "    keras.layers.Dense(1,activation='sigmoid')                                                                                                            #every neuron connected with other layer\n",
    "])"
   ]
  },
  {
   "cell_type": "code",
   "execution_count": 12,
   "id": "ac5ad41c-5ffa-4bf5-8452-291195f95ad3",
   "metadata": {},
   "outputs": [
    {
     "data": {
      "text/plain": [
       "(68911, 6000)"
      ]
     },
     "execution_count": 12,
     "metadata": {},
     "output_type": "execute_result"
    }
   ],
   "source": [
    "np.shape(xtrain)\n",
    "# np.shape(xtest)"
   ]
  },
  {
   "cell_type": "code",
   "execution_count": 13,
   "id": "8f2a3c3d-4f12-44a3-b906-8f25e4c3d023",
   "metadata": {},
   "outputs": [],
   "source": [
    "model.compile(optimizer='adam', \n",
    "              loss='binary_crossentropy',\n",
    "              metrics=['accuracy'])\n"
   ]
  },
  {
   "cell_type": "code",
   "execution_count": 19,
   "id": "279ec599-71e2-482f-b10d-8f2cce19d76b",
   "metadata": {},
   "outputs": [
    {
     "name": "stdout",
     "output_type": "stream",
     "text": [
      "Epoch 1/10\n",
      "  2/200 [..............................] - ETA: 10s - loss: 0.2537 - accuracy: 0.9473"
     ]
    },
    {
     "name": "stderr",
     "output_type": "stream",
     "text": [
      "2024-01-26 19:38:08.587198: W tensorflow/core/framework/cpu_allocator_impl.cc:82] Allocation of 1653864000 exceeds 10% of free system memory.\n"
     ]
    },
    {
     "name": "stdout",
     "output_type": "stream",
     "text": [
      "200/200 [==============================] - 9s 47ms/step - loss: 0.1213 - accuracy: 0.9586\n",
      "Epoch 2/10\n",
      "200/200 [==============================] - 9s 47ms/step - loss: 0.0885 - accuracy: 0.9686\n",
      "Epoch 3/10\n",
      "200/200 [==============================] - 9s 47ms/step - loss: 0.0737 - accuracy: 0.9728\n",
      "Epoch 4/10\n",
      "200/200 [==============================] - 9s 47ms/step - loss: 0.0649 - accuracy: 0.9759\n",
      "Epoch 5/10\n",
      "200/200 [==============================] - 9s 47ms/step - loss: 0.0507 - accuracy: 0.9810\n",
      "Epoch 6/10\n",
      "200/200 [==============================] - 9s 47ms/step - loss: 0.0500 - accuracy: 0.9818\n",
      "Epoch 7/10\n",
      "200/200 [==============================] - 9s 46ms/step - loss: 0.0479 - accuracy: 0.9832\n",
      "Epoch 8/10\n",
      "200/200 [==============================] - 9s 47ms/step - loss: 0.0443 - accuracy: 0.9834\n",
      "Epoch 9/10\n",
      "200/200 [==============================] - 9s 47ms/step - loss: 0.0415 - accuracy: 0.9854\n",
      "Epoch 10/10\n",
      "200/200 [==============================] - 9s 47ms/step - loss: 0.0328 - accuracy: 0.9892\n"
     ]
    }
   ],
   "source": [
    "history=model.fit(\n",
    "    xtrain,ytrain,epochs=10,batch_size=256,steps_per_epoch=200)"
   ]
  },
  {
   "cell_type": "code",
   "execution_count": 20,
   "id": "eadb4a84-5a86-480d-98db-9460622c1405",
   "metadata": {},
   "outputs": [],
   "source": [
    "#############END##################"
   ]
  },
  {
   "cell_type": "code",
   "execution_count": null,
   "id": "d6f720c7-a44a-422e-9816-d30b0563a672",
   "metadata": {},
   "outputs": [],
   "source": [
    "############Testing###############"
   ]
  },
  {
   "cell_type": "code",
   "execution_count": 32,
   "id": "ef73c78e-14a5-4a07-9014-3ce2443d2e69",
   "metadata": {},
   "outputs": [
    {
     "name": "stdout",
     "output_type": "stream",
     "text": [
      "166\n"
     ]
    }
   ],
   "source": [
    "\n",
    "eq_list_t=['fiji']\n",
    "xtest_bad=[]\n",
    "for i in eq_list_t:\n",
    "    st_bad_t=obspy.read(\"/home/Madhu/Documents/dataset_classification/data/bad_traces/noisy_traces_\"+\"fij/*\")\n",
    "    \n",
    "    for tr in st_bad_t:\n",
    "        xtest_bad.append(tr.data[:6000]/np.std(tr.data));\n",
    "print(len(xtest_bad))\n",
    "ytest_bad=np.array(np.zeros(len(xtest_bad)))"
   ]
  },
  {
   "cell_type": "code",
   "execution_count": 33,
   "id": "453eb680-37d4-4330-baf0-20649f011461",
   "metadata": {},
   "outputs": [
    {
     "name": "stdout",
     "output_type": "stream",
     "text": [
      "6784\n"
     ]
    }
   ],
   "source": [
    "xtest_good=[]\n",
    "for i in eq_list_t:\n",
    "    st_good_t=obspy.read(\"/home/Madhu/Documents/dataset_classification/data/good_traces/good_traces_\"+\"fij/*\")\n",
    "    for tr in st_good_t:\n",
    "        xtest_good.append(tr.data[:6000]/np.std(tr.data));\n",
    "print(len(xtest_good))\n",
    "ytest_good=np.array(np.ones(len(xtest_good)))"
   ]
  },
  {
   "cell_type": "code",
   "execution_count": 34,
   "id": "017754bf-9b05-4c48-bfeb-0ca4082b9ddf",
   "metadata": {},
   "outputs": [],
   "source": [
    "xtest= np.concatenate((xtest_good,xtest_bad), 0)\n",
    "ytest= np.concatenate((ytest_good, ytest_bad), 0)"
   ]
  },
  {
   "cell_type": "code",
   "execution_count": 35,
   "id": "334ffe76-1945-45d9-b71f-700755390a9b",
   "metadata": {},
   "outputs": [
    {
     "name": "stdout",
     "output_type": "stream",
     "text": [
      "218/218 [==============================] - 2s 10ms/step - loss: 0.1259 - accuracy: 0.9842\n"
     ]
    },
    {
     "data": {
      "text/plain": [
       "[0.12585760653018951, 0.9841726422309875]"
      ]
     },
     "execution_count": 35,
     "metadata": {},
     "output_type": "execute_result"
    }
   ],
   "source": [
    "model.evaluate(xtest,ytest)"
   ]
  },
  {
   "cell_type": "code",
   "execution_count": 36,
   "id": "e98012db-f565-4bb0-947d-197a71110454",
   "metadata": {},
   "outputs": [
    {
     "name": "stdout",
     "output_type": "stream",
     "text": [
      "218/218 [==============================] - 2s 10ms/step\n"
     ]
    }
   ],
   "source": [
    "y_predicted=model.predict(xtest)\n"
   ]
  },
  {
   "cell_type": "code",
   "execution_count": 37,
   "id": "4df8c135-28c1-456e-810f-aca1aba4b765",
   "metadata": {},
   "outputs": [
    {
     "name": "stdout",
     "output_type": "stream",
     "text": [
      "Test loss: 0.12585760653018951\n",
      "Test accuracy: 0.9841726422309875\n"
     ]
    }
   ],
   "source": [
    "score = model.evaluate(xtest, ytest, verbose=0)\n",
    "print(\"Test loss:\", score[0])\n",
    "print(\"Test accuracy:\", score[1])"
   ]
  },
  {
   "cell_type": "code",
   "execution_count": 41,
   "id": "6694bb9a-8322-4a9f-be24-3ad86828089d",
   "metadata": {},
   "outputs": [
    {
     "data": {
      "text/plain": [
       "[<matplotlib.lines.Line2D at 0x7fd0f88cb730>]"
      ]
     },
     "execution_count": 41,
     "metadata": {},
     "output_type": "execute_result"
    },
    {
     "data": {
      "image/png": "[encoded data removed]",
      "text/plain": [
       "<Figure size 432x288 with 1 Axes>"
      ]
     },
     "metadata": {
      "needs_background": "light"
     },
     "output_type": "display_data"
    }
   ],
   "source": [
    "y=[]\n",
    "for i in y_predicted:\n",
    "    if i<= 0.5:\n",
    "        i=0\n",
    "    else:\n",
    "        i=1\n",
    "    y.append(i)\n",
    "\n",
    "plt.plot(y)\n"
   ]
  },
  {
   "cell_type": "code",
   "execution_count": 42,
   "id": "2e3b016e-a74f-43de-9811-b04dc29c4d1a",
   "metadata": {},
   "outputs": [
    {
     "name": "stdout",
     "output_type": "stream",
     "text": [
      "INFO:tensorflow:Assets written to: /home/ishalohan/classification_20thmay/assets\n"
     ]
    }
   ],
   "source": [
    "model.save('/home/Madhu/classification_20thmay')"
   ]
  },
  {
   "cell_type": "code",
   "execution_count": null,
   "id": "4a838435-3be4-4561-bc28-7fe901c2874a",
   "metadata": {},
   "outputs": [],
   "source": []
  },
  {
   "cell_type": "code",
   "execution_count": null,
   "id": "0a57de0c-81a7-46b4-b03e-a8ff17d82b40",
   "metadata": {},
   "outputs": [],
   "source": []
  },
  {
   "cell_type": "code",
   "execution_count": null,
   "id": "f9cc0cc5-ba51-4e72-98e5-89442f2c5e55",
   "metadata": {},
   "outputs": [],
   "source": []
  }
 ],
 "metadata": {
  "kernelspec": {
   "display_name": "Python 3 (ipykernel)",
   "language": "python",
   "name": "python3"
  },
  "language_info": {
   "codemirror_mode": {
    "name": "ipython",
    "version": 3
   },
   "file_extension": ".py",
   "mimetype": "text/x-python",
   "name": "python",
   "nbconvert_exporter": "python",
   "pygments_lexer": "ipython3",
   "version": "3.9.7"
  }
 },
 "nbformat": 4,
 "nbformat_minor": 5
}
